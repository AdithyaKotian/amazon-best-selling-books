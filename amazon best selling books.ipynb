{
 "cells": [
  {
   "cell_type": "code",
   "execution_count": 1,
   "id": "44fe70b6-1e6f-45cd-9c5f-fe9c6a29f527",
   "metadata": {},
   "outputs": [],
   "source": [
    "import pandas as pd"
   ]
  },
  {
   "cell_type": "code",
   "execution_count": 3,
   "id": "ec9d7d9b-1ed3-4f62-9ce9-a075464c78bc",
   "metadata": {},
   "outputs": [],
   "source": [
    "df = pd.read_csv(\"bestsellers.csv\")"
   ]
  },
  {
   "cell_type": "code",
   "execution_count": 4,
   "id": "5b0a669f-16b0-4d9e-8204-7d2578d3f29d",
   "metadata": {},
   "outputs": [
    {
     "name": "stdout",
     "output_type": "stream",
     "text": [
      "                                                Name  \\\n",
      "0                      10-Day Green Smoothie Cleanse   \n",
      "1                                  11/22/63: A Novel   \n",
      "2            12 Rules for Life: An Antidote to Chaos   \n",
      "3                             1984 (Signet Classics)   \n",
      "4  5,000 Awesome Facts (About Everything!) (Natio...   \n",
      "\n",
      "                     Author  User Rating  Reviews  Price  Year        Genre  \n",
      "0                  JJ Smith          4.7    17350      8  2016  Non Fiction  \n",
      "1              Stephen King          4.6     2052     22  2011      Fiction  \n",
      "2        Jordan B. Peterson          4.7    18979     15  2018  Non Fiction  \n",
      "3             George Orwell          4.7    21424      6  2017      Fiction  \n",
      "4  National Geographic Kids          4.8     7665     12  2019  Non Fiction  \n",
      "(550, 7)\n",
      "Index(['Name', 'Author', 'User Rating', 'Reviews', 'Price', 'Year', 'Genre'], dtype='object')\n",
      "       User Rating       Reviews       Price         Year\n",
      "count   550.000000    550.000000  550.000000   550.000000\n",
      "mean      4.618364  11953.281818   13.100000  2014.000000\n",
      "std       0.226980  11731.132017   10.842262     3.165156\n",
      "min       3.300000     37.000000    0.000000  2009.000000\n",
      "25%       4.500000   4058.000000    7.000000  2011.000000\n",
      "50%       4.700000   8580.000000   11.000000  2014.000000\n",
      "75%       4.800000  17253.250000   16.000000  2017.000000\n",
      "max       4.900000  87841.000000  105.000000  2019.000000\n"
     ]
    }
   ],
   "source": [
    "# Get the first 5 rows of the spreadsheet\n",
    "print(df.head())\n",
    "\n",
    "# Get the shape of the spreadsheet\n",
    "print(df.shape)\n",
    "\n",
    "# Get the column names of the spreadsheet\n",
    "print(df.columns)\n",
    "\n",
    "# Get summary statistics for each column\n",
    "print(df.describe())"
   ]
  },
  {
   "cell_type": "code",
   "execution_count": 5,
   "id": "b1e7fb3b-e61b-4dc2-a9d6-67966ec48e8a",
   "metadata": {},
   "outputs": [],
   "source": [
    "df.drop_duplicates(inplace = True)"
   ]
  },
  {
   "cell_type": "code",
   "execution_count": 6,
   "id": "e1a346e0-7d38-4f10-8b51-4654c50afa25",
   "metadata": {},
   "outputs": [],
   "source": [
    "df.rename(columns={\"Name\": \"Title\", \"Year\": \"Publication Year\", \"User Rating\": \"Rating\"}, inplace=True)"
   ]
  },
  {
   "cell_type": "code",
   "execution_count": 8,
   "id": "c5a83e2b-0f38-4268-8b6c-6ce04f325b5c",
   "metadata": {},
   "outputs": [],
   "source": [
    "df[\"Price\"] = df[\"Price\"].astype(float)"
   ]
  },
  {
   "cell_type": "code",
   "execution_count": 9,
   "id": "f43cbd72-e066-4ea5-82e1-3afad5c27f88",
   "metadata": {},
   "outputs": [
    {
     "name": "stdout",
     "output_type": "stream",
     "text": [
      "Author\n",
      "Jeff Kinney                           12\n",
      "Suzanne Collins                       11\n",
      "Gary Chapman                          11\n",
      "Rick Riordan                          11\n",
      "American Psychological Association    10\n",
      "                                      ..\n",
      "Maurice Sendak                         1\n",
      "Cheryl Strayed                         1\n",
      "The Staff of The Late Show with",
      "       1\n",
      "Geneen Roth                            1\n",
      "Ken Follett                            1\n",
      "Name: count, Length: 248, dtype: int64\n"
     ]
    }
   ],
   "source": [
    "author_counts = df[\"Author\"].value_counts()\n",
    "print(author_counts)"
   ]
  },
  {
   "cell_type": "code",
   "execution_count": 12,
   "id": "3b3471ac-f7da-40a5-afd6-67d191ad06be",
   "metadata": {},
   "outputs": [
    {
     "name": "stdout",
     "output_type": "stream",
     "text": [
      "Genre\n",
      "Fiction        5\n",
      "Non Fiction    5\n",
      "Name: Rating, dtype: int64\n"
     ]
    }
   ],
   "source": [
    "avg_rating_by_genre = df.groupby(\"Genre\")[\"Rating\"].mean().round().astype(int)\n",
    "print(avg_rating_by_genre)"
   ]
  },
  {
   "cell_type": "code",
   "execution_count": 13,
   "id": "04b0c76d-b402-4623-9883-26fae80f11dc",
   "metadata": {},
   "outputs": [],
   "source": [
    "author_counts.head(10).to_csv(\"top_authors.csv\")\n",
    "avg_rating_by_genre.to_csv(\"avg_rating_by_genre.csv\")"
   ]
  },
  {
   "cell_type": "code",
   "execution_count": null,
   "id": "2c44f314-86d8-48a4-baf0-7e47269f56f3",
   "metadata": {},
   "outputs": [],
   "source": []
  }
 ],
 "metadata": {
  "kernelspec": {
   "display_name": "Python 3 (ipykernel)",
   "language": "python",
   "name": "python3"
  },
  "language_info": {
   "codemirror_mode": {
    "name": "ipython",
    "version": 3
   },
   "file_extension": ".py",
   "mimetype": "text/x-python",
   "name": "python",
   "nbconvert_exporter": "python",
   "pygments_lexer": "ipython3",
   "version": "3.13.9"
  }
 },
 "nbformat": 4,
 "nbformat_minor": 5
}
